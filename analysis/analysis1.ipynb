{
 "cells": [
  {
   "cell_type": "markdown",
   "metadata": {},
   "source": [
    "# Yuxin Hu"
   ]
  },
  {
   "cell_type": "markdown",
   "metadata": {},
   "source": [
    "## Research question/interests\n",
    "\n",
    "### Research Question: How does weather affect bike sharing usage in terms of the number of total rental bikes?\n",
    "\n",
    "Additional Context: In this analysis, I will explore the relationship between weather conditions and bike sharing usage. I will use the Bike Sharing Dataset, which contains hourly and daily rental data, as well as weather conditions. I will focus on the total rental bikes (cnt) field and investigate how it changes based on weather conditions, such as temperature, humidity, and windspeed.\n",
    "\n",
    "Analysis Plan:\n",
    "\n",
    "- Load the hourly (hour.csv) data into a single dataframe.\n",
    "- Clean the data by checking for missing values and outliers, as well as transforming the data types and column names.\n",
    "- Explore the distribution and correlation of the weather-related fields (temp, atemp, hum, and windspeed) and the total rental bikes (cnt).\n",
    "- Analyze the relationship between weather conditions and bike sharing usage by grouping the data by weathersit and calculating the mean, median, and standard deviation of the total rental bikes.\n",
    "- Visualize the relationship between weather conditions and bike sharing usage using bar charts, line graphs, and scatterplots.\n",
    "- Perform statistical tests, such as ANOVA or t-tests, to determine if there are significant differences in bike sharing usage between different weather conditions.\n",
    "- Summarize the findings and provide insights into how weather affects bike sharing usage."
   ]
  },
  {
   "cell_type": "code",
   "execution_count": null,
   "metadata": {},
   "outputs": [],
   "source": [
    "import pandas as pd\n",
    "df = pd.read_csv('../data/raw/hour.csv')\n",
    "df.drop(columns=['casual','registered'], inplace=True)\n",
    "df.to_csv('../analysis/ungraded/YuxinFirst.csv', index=False)"
   ]
  },
  {
   "cell_type": "code",
   "execution_count": null,
   "metadata": {},
   "outputs": [],
   "source": []
  }
 ],
 "metadata": {
  "kernelspec": {
   "display_name": "Python 3 (ipykernel)",
   "language": "python",
   "name": "python3"
  }
 },
 "nbformat": 4,
 "nbformat_minor": 2
}
