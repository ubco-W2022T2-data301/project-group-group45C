{
 "cells": [
  {
   "attachments": {},
   "cell_type": "markdown",
   "metadata": {},
   "source": [
    "#Yiran Wang"
   ]
  },
  {
   "attachments": {},
   "cell_type": "markdown",
   "metadata": {},
   "source": [
    "## Research question/interests\n",
    "**My research question is, the relationship between the number of users (casual and registered users and the sum) and the date (holidays, weekends, weekdays, seasons, and these are of course related to year month day)**. My friends and I usually use Lime which is a software for sharing scooters and bicycles. The shared bicycle system is also very popular in my hometown. As a user who has participated in and registered for the shared bicycle system, I am very curious about the relationship between the number of users and the date, and how they affect each other.\n",
    "\n",
    "First, I only uploaded hour.csv because our group decided to only use the hour.csv file, which has more information than day.csv. Then integrate the \"hour\" rows of the same date, which is more convenient for my later research.\n",
    "\n",
    "Then, I will delete some columns that are unnecessary for my research direction for cleaning the dataset. I am going to drop casual and register columns, and only use their sum cnt column as the result. I will also remove columns that are not my research direction, such as the column of weather. This also controls the variables.\n",
    "\n",
    "Afterwards, I would first select holidays and then separate out weekdays and weekends so that they can be analyzed separately. I plan to use loop when filtering, because 6 and 0 in weekday represent Saturday and Sunday, so use this as a condition, store these weekend dates into a new dataframe after running, and filter weekdays and holidays in the same way.\n",
    "\n",
    "Ploting is necessary because diagrams can directly reflect relationships.For these three items, at least three charts can be made (the chart type cannot be determined, because there are still many charts that I have not yet learned).\n",
    "\n",
    "Finally, according to the graph, the horizontal axis is the date (holiday, workingday, weekday), and the vertical axis is the number of users, so that it can be analyzed in which period a large change in the number of users usually occurs."
   ]
  },
  {
   "cell_type": "code",
   "execution_count": null,
   "metadata": {
    "vscode": {
     "languageId": "python"
    }
   },
   "outputs": [],
   "source": [
    "import pandas as pd\n",
    "df = pd.read_csv('../data/raw/hour.csv') \n",
    "df.drop(columns=['casual','registered','weathersit','temp','atemp','hum','windspeed'], inplace=True) \n",
    "df.to_csv('../analysis/ungraded/emily_df.csv', index=False)"
   ]
  }
 ],
 "metadata": {
  "kernelspec": {
   "display_name": "Python 3",
   "language": "python",
   "name": "python3"
  }
 },
 "nbformat": 4,
 "nbformat_minor": 2
}
